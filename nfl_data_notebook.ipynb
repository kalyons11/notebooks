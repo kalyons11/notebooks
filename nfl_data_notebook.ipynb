{
 "cells": [
  {
   "cell_type": "markdown",
   "metadata": {},
   "source": [
    "## NFL Data Analysis\n",
    "\n",
    "Motivation taken from the kernel [here](https://www.kaggle.com/carrie1/cowboys-td-plays-from-last-year)."
   ]
  },
  {
   "cell_type": "markdown",
   "metadata": {},
   "source": [
    "### Load Data"
   ]
  },
  {
   "cell_type": "code",
   "execution_count": 1,
   "metadata": {},
   "outputs": [
    {
     "name": "stdout",
     "output_type": "stream",
     "text": [
      "<class 'pandas.core.frame.DataFrame'>\n",
      "RangeIndex: 362447 entries, 0 to 362446\n",
      "Data columns (total 100 columns):\n",
      "Date                           362447 non-null object\n",
      "GameID                         362447 non-null int64\n",
      "Drive                          362447 non-null int64\n",
      "qtr                            362447 non-null int64\n",
      "down                           308229 non-null float64\n",
      "time                           362259 non-null object\n",
      "TimeUnder                      362447 non-null int64\n",
      "TimeSecs                       362259 non-null float64\n",
      "PlayTimeDiff                   362073 non-null float64\n",
      "SideofField                    361997 non-null object\n",
      "yrdln                          361724 non-null float64\n",
      "yrdline100                     361724 non-null float64\n",
      "ydstogo                        362447 non-null int64\n",
      "ydsnet                         362447 non-null int64\n",
      "GoalToGo                       361724 non-null float64\n",
      "FirstDown                      336850 non-null float64\n",
      "posteam                        340468 non-null object\n",
      "DefensiveTeam                  340468 non-null object\n",
      "desc                           362445 non-null object\n",
      "PlayAttempted                  362447 non-null int64\n",
      "Yards.Gained                   362447 non-null int64\n",
      "sp                             362447 non-null int64\n",
      "Touchdown                      362447 non-null int64\n",
      "ExPointResult                  9048 non-null object\n",
      "TwoPointConv                   528 non-null object\n",
      "DefTwoPoint                    14 non-null object\n",
      "Safety                         362447 non-null int64\n",
      "Onsidekick                     362447 non-null int64\n",
      "PuntResult                     19887 non-null object\n",
      "PlayType                       362447 non-null object\n",
      "Passer                         149089 non-null object\n",
      "Passer_ID                      362447 non-null object\n",
      "PassAttempt                    362447 non-null int64\n",
      "PassOutcome                    149624 non-null object\n",
      "PassLength                     148675 non-null object\n",
      "AirYards                       362447 non-null int64\n",
      "YardsAfterCatch                362447 non-null int64\n",
      "QBHit                          362447 non-null int64\n",
      "PassLocation                   148675 non-null object\n",
      "InterceptionThrown             362447 non-null int64\n",
      "Interceptor                    4060 non-null object\n",
      "Rusher                         107193 non-null object\n",
      "Rusher_ID                      362447 non-null object\n",
      "RushAttempt                    362447 non-null int64\n",
      "RunLocation                    106260 non-null object\n",
      "RunGap                         77842 non-null object\n",
      "Receiver                       143800 non-null object\n",
      "Receiver_ID                    362447 non-null object\n",
      "Reception                      362447 non-null int64\n",
      "ReturnResult                   15900 non-null object\n",
      "Returner                       22912 non-null object\n",
      "BlockingPlayer                 106 non-null object\n",
      "Tackler1                       215264 non-null object\n",
      "Tackler2                       44402 non-null object\n",
      "FieldGoalResult                8016 non-null object\n",
      "FieldGoalDistance              7919 non-null float64\n",
      "Fumble                         362447 non-null int64\n",
      "RecFumbTeam                    3934 non-null object\n",
      "RecFumbPlayer                  3934 non-null object\n",
      "Sack                           362447 non-null int64\n",
      "Challenge.Replay               362447 non-null int64\n",
      "ChalReplayResult               2971 non-null object\n",
      "Accepted.Penalty               362447 non-null int64\n",
      "PenalizedTeam                  26085 non-null object\n",
      "PenaltyType                    14598 non-null object\n",
      "PenalizedPlayer                24964 non-null object\n",
      "Penalty.Yards                  362447 non-null int64\n",
      "PosTeamScore                   338765 non-null float64\n",
      "DefTeamScore                   338765 non-null float64\n",
      "ScoreDiff                      340472 non-null float64\n",
      "AbsScoreDiff                   338765 non-null float64\n",
      "HomeTeam                       362447 non-null object\n",
      "AwayTeam                       362447 non-null object\n",
      "Timeout_Indicator              362447 non-null int64\n",
      "Timeout_Team                   362447 non-null object\n",
      "posteam_timeouts_pre           362447 non-null int64\n",
      "HomeTimeouts_Remaining_Pre     362447 non-null int64\n",
      "AwayTimeouts_Remaining_Pre     362447 non-null int64\n",
      "HomeTimeouts_Remaining_Post    362447 non-null int64\n",
      "AwayTimeouts_Remaining_Post    362447 non-null int64\n",
      "No_Score_Prob                  362299 non-null float64\n",
      "Opp_Field_Goal_Prob            362299 non-null float64\n",
      "Opp_Safety_Prob                362299 non-null float64\n",
      "Opp_Touchdown_Prob             362299 non-null float64\n",
      "Field_Goal_Prob                362299 non-null float64\n",
      "Safety_Prob                    362299 non-null float64\n",
      "Touchdown_Prob                 362299 non-null float64\n",
      "ExPoint_Prob                   362447 non-null float64\n",
      "TwoPoint_Prob                  362447 non-null float64\n",
      "ExpPts                         362299 non-null float64\n",
      "EPA                            341997 non-null float64\n",
      "airEPA                         141766 non-null float64\n",
      "yacEPA                         141335 non-null float64\n",
      "Home_WP_pre                    340454 non-null float64\n",
      "Away_WP_pre                    340454 non-null float64\n",
      "Home_WP_post                   320639 non-null float64\n",
      "Away_WP_post                   320639 non-null float64\n",
      "Win_Prob                       340454 non-null float64\n",
      "WPA                            339232 non-null float64\n",
      "Season                         362447 non-null int64\n",
      "dtypes: float64(31), int64(31), object(38)\n",
      "memory usage: 276.5+ MB\n"
     ]
    }
   ],
   "source": [
    "import pandas as pd\n",
    "df = pd.read_csv('./data/nfl.csv', low_memory=False)\n",
    "df.info()"
   ]
  },
  {
   "cell_type": "markdown",
   "metadata": {},
   "source": [
    "### Filter My Team"
   ]
  },
  {
   "cell_type": "code",
   "execution_count": 3,
   "metadata": {},
   "outputs": [
    {
     "data": {
      "text/plain": [
       "array(['PIT', 'CLE', 'NO', 'TB', 'HOU', 'IND', 'CIN', 'CAR', 'BAL', 'ATL',\n",
       "       'ARI', 'SEA', 'NYG', 'GB', 'NE', 'OAK', 'DET', 'WAS', 'TEN', 'PHI',\n",
       "       'NYJ', 'KC', 'JAC', 'SF', 'BUF', 'SD', 'DEN', 'CHI', 'DAL', 'MIA',\n",
       "       'MIN', 'STL', 'LA', 'JAX'], dtype=object)"
      ]
     },
     "execution_count": 3,
     "metadata": {},
     "output_type": "execute_result"
    }
   ],
   "source": [
    "df.HomeTeam.unique()"
   ]
  },
  {
   "cell_type": "code",
   "execution_count": 21,
   "metadata": {},
   "outputs": [],
   "source": [
    "# Get all Patriots games with touchdowns in 2016\n",
    "PATS_KEY = 'NE'\n",
    "pats = df[((df.HomeTeam == PATS_KEY) | (df.AwayTeam == PATS_KEY)) & \n",
    "          (df.Season == 2016) &\n",
    "          (df.Touchdown == 1)]"
   ]
  },
  {
   "cell_type": "code",
   "execution_count": 35,
   "metadata": {},
   "outputs": [],
   "source": [
    "# Make sure we have all 16 games\n",
    "assert len(pats.groupby(by='Date')) == 16"
   ]
  },
  {
   "cell_type": "markdown",
   "metadata": {},
   "source": [
    "### Filter My Offense"
   ]
  },
  {
   "cell_type": "code",
   "execution_count": 37,
   "metadata": {},
   "outputs": [
    {
     "data": {
      "text/html": [
       "<div>\n",
       "<style scoped>\n",
       "    .dataframe tbody tr th:only-of-type {\n",
       "        vertical-align: middle;\n",
       "    }\n",
       "\n",
       "    .dataframe tbody tr th {\n",
       "        vertical-align: top;\n",
       "    }\n",
       "\n",
       "    .dataframe thead th {\n",
       "        text-align: right;\n",
       "    }\n",
       "</style>\n",
       "<table border=\"1\" class=\"dataframe\">\n",
       "  <thead>\n",
       "    <tr style=\"text-align: right;\">\n",
       "      <th></th>\n",
       "      <th>PlayType</th>\n",
       "      <th>down</th>\n",
       "      <th>Yards.Gained</th>\n",
       "      <th>Date</th>\n",
       "      <th>qtr</th>\n",
       "      <th>desc</th>\n",
       "      <th>scorer</th>\n",
       "      <th>Rusher</th>\n",
       "      <th>Receiver</th>\n",
       "      <th>Passer</th>\n",
       "    </tr>\n",
       "  </thead>\n",
       "  <tbody>\n",
       "    <tr>\n",
       "      <th>319038</th>\n",
       "      <td>Pass</td>\n",
       "      <td>2.0</td>\n",
       "      <td>37</td>\n",
       "      <td>2016-09-11</td>\n",
       "      <td>1</td>\n",
       "      <td>(7:42) J.Garoppolo pass deep left to C.Hogan f...</td>\n",
       "      <td>C.Hogan</td>\n",
       "      <td>NaN</td>\n",
       "      <td>C.Hogan</td>\n",
       "      <td>J.Garoppolo</td>\n",
       "    </tr>\n",
       "    <tr>\n",
       "      <th>320514</th>\n",
       "      <td>Pass</td>\n",
       "      <td>3.0</td>\n",
       "      <td>20</td>\n",
       "      <td>2016-09-18</td>\n",
       "      <td>1</td>\n",
       "      <td>(6:27) (Shotgun) J.Garoppolo pass deep middle ...</td>\n",
       "      <td>M.Bennett</td>\n",
       "      <td>NaN</td>\n",
       "      <td>M.Bennett</td>\n",
       "      <td>J.Garoppolo</td>\n",
       "    </tr>\n",
       "    <tr>\n",
       "      <th>320534</th>\n",
       "      <td>Pass</td>\n",
       "      <td>3.0</td>\n",
       "      <td>10</td>\n",
       "      <td>2016-09-18</td>\n",
       "      <td>2</td>\n",
       "      <td>(13:14) (Shotgun) J.Garoppolo pass short middl...</td>\n",
       "      <td>D.Amendola</td>\n",
       "      <td>NaN</td>\n",
       "      <td>D.Amendola</td>\n",
       "      <td>J.Garoppolo</td>\n",
       "    </tr>\n",
       "    <tr>\n",
       "      <th>320500</th>\n",
       "      <td>Pass</td>\n",
       "      <td>2.0</td>\n",
       "      <td>12</td>\n",
       "      <td>2016-09-18</td>\n",
       "      <td>1</td>\n",
       "      <td>(11:02) (Shotgun) J.Garoppolo pass short middl...</td>\n",
       "      <td>D.Amendola</td>\n",
       "      <td>NaN</td>\n",
       "      <td>D.Amendola</td>\n",
       "      <td>J.Garoppolo</td>\n",
       "    </tr>\n",
       "    <tr>\n",
       "      <th>320605</th>\n",
       "      <td>Run</td>\n",
       "      <td>1.0</td>\n",
       "      <td>9</td>\n",
       "      <td>2016-09-18</td>\n",
       "      <td>3</td>\n",
       "      <td>(8:46) (Shotgun) L.Blount right tackle for 9 y...</td>\n",
       "      <td>L.Blount</td>\n",
       "      <td>L.Blount</td>\n",
       "      <td>NaN</td>\n",
       "      <td>NaN</td>\n",
       "    </tr>\n",
       "    <tr>\n",
       "      <th>322621</th>\n",
       "      <td>Run</td>\n",
       "      <td>2.0</td>\n",
       "      <td>41</td>\n",
       "      <td>2016-09-22</td>\n",
       "      <td>4</td>\n",
       "      <td>(11:08) L.Blount left end for 41 yards, TOUCHD...</td>\n",
       "      <td>L.Blount</td>\n",
       "      <td>L.Blount</td>\n",
       "      <td>NaN</td>\n",
       "      <td>NaN</td>\n",
       "    </tr>\n",
       "    <tr>\n",
       "      <th>322517</th>\n",
       "      <td>Run</td>\n",
       "      <td>1.0</td>\n",
       "      <td>27</td>\n",
       "      <td>2016-09-22</td>\n",
       "      <td>1</td>\n",
       "      <td>(2:01) J.Brissett right end for 27 yards, TOUC...</td>\n",
       "      <td>J.Brissett</td>\n",
       "      <td>J.Brissett</td>\n",
       "      <td>NaN</td>\n",
       "      <td>NaN</td>\n",
       "    </tr>\n",
       "    <tr>\n",
       "      <th>328364</th>\n",
       "      <td>Pass</td>\n",
       "      <td>1.0</td>\n",
       "      <td>37</td>\n",
       "      <td>2016-10-09</td>\n",
       "      <td>3</td>\n",
       "      <td>(12:28) (No Huddle) T.Brady pass deep right to...</td>\n",
       "      <td>M.Bennett</td>\n",
       "      <td>NaN</td>\n",
       "      <td>M.Bennett</td>\n",
       "      <td>T.Brady</td>\n",
       "    </tr>\n",
       "    <tr>\n",
       "      <th>332235</th>\n",
       "      <td>Pass</td>\n",
       "      <td>1.0</td>\n",
       "      <td>15</td>\n",
       "      <td>2016-10-16</td>\n",
       "      <td>2</td>\n",
       "      <td>(1:06) (Shotgun) T.Brady pass short right to J...</td>\n",
       "      <td>J.White</td>\n",
       "      <td>NaN</td>\n",
       "      <td>J.White</td>\n",
       "      <td>T.Brady</td>\n",
       "    </tr>\n",
       "    <tr>\n",
       "      <th>335390</th>\n",
       "      <td>Pass</td>\n",
       "      <td>3.0</td>\n",
       "      <td>19</td>\n",
       "      <td>2016-10-23</td>\n",
       "      <td>1</td>\n",
       "      <td>(3:03) (Shotgun) T.Brady pass short left to J....</td>\n",
       "      <td>J.White</td>\n",
       "      <td>NaN</td>\n",
       "      <td>J.White</td>\n",
       "      <td>T.Brady</td>\n",
       "    </tr>\n",
       "    <tr>\n",
       "      <th>335477</th>\n",
       "      <td>Pass</td>\n",
       "      <td>3.0</td>\n",
       "      <td>36</td>\n",
       "      <td>2016-10-23</td>\n",
       "      <td>3</td>\n",
       "      <td>(6:27) (Shotgun) T.Brady pass deep middle to R...</td>\n",
       "      <td>R.Gronkowski</td>\n",
       "      <td>NaN</td>\n",
       "      <td>R.Gronkowski</td>\n",
       "      <td>T.Brady</td>\n",
       "    </tr>\n",
       "    <tr>\n",
       "      <th>337344</th>\n",
       "      <td>Pass</td>\n",
       "      <td>2.0</td>\n",
       "      <td>53</td>\n",
       "      <td>2016-10-30</td>\n",
       "      <td>2</td>\n",
       "      <td>(4:27) (Shotgun) T.Brady pass deep middle to R...</td>\n",
       "      <td>R.Gronkowski</td>\n",
       "      <td>NaN</td>\n",
       "      <td>R.Gronkowski</td>\n",
       "      <td>T.Brady</td>\n",
       "    </tr>\n",
       "    <tr>\n",
       "      <th>337371</th>\n",
       "      <td>Pass</td>\n",
       "      <td>1.0</td>\n",
       "      <td>12</td>\n",
       "      <td>2016-10-30</td>\n",
       "      <td>3</td>\n",
       "      <td>(14:07) (Shotgun) T.Brady pass short right to ...</td>\n",
       "      <td>J.Edelman</td>\n",
       "      <td>NaN</td>\n",
       "      <td>J.Edelman</td>\n",
       "      <td>T.Brady</td>\n",
       "    </tr>\n",
       "    <tr>\n",
       "      <th>337293</th>\n",
       "      <td>Pass</td>\n",
       "      <td>3.0</td>\n",
       "      <td>9</td>\n",
       "      <td>2016-10-30</td>\n",
       "      <td>1</td>\n",
       "      <td>(4:35) (Shotgun) T.Brady pass short right to D...</td>\n",
       "      <td>D.Amendola</td>\n",
       "      <td>NaN</td>\n",
       "      <td>D.Amendola</td>\n",
       "      <td>T.Brady</td>\n",
       "    </tr>\n",
       "    <tr>\n",
       "      <th>337305</th>\n",
       "      <td>Pass</td>\n",
       "      <td>3.0</td>\n",
       "      <td>53</td>\n",
       "      <td>2016-10-30</td>\n",
       "      <td>1</td>\n",
       "      <td>(1:41) (Shotgun) T.Brady pass deep left to C.H...</td>\n",
       "      <td>C.Hogan</td>\n",
       "      <td>NaN</td>\n",
       "      <td>C.Hogan</td>\n",
       "      <td>T.Brady</td>\n",
       "    </tr>\n",
       "    <tr>\n",
       "      <th>342982</th>\n",
       "      <td>Run</td>\n",
       "      <td>1.0</td>\n",
       "      <td>13</td>\n",
       "      <td>2016-11-13</td>\n",
       "      <td>3</td>\n",
       "      <td>(7:58) L.Blount left end for 13 yards, TOUCHDO...</td>\n",
       "      <td>L.Blount</td>\n",
       "      <td>L.Blount</td>\n",
       "      <td>NaN</td>\n",
       "      <td>NaN</td>\n",
       "    </tr>\n",
       "    <tr>\n",
       "      <th>345121</th>\n",
       "      <td>Pass</td>\n",
       "      <td>3.0</td>\n",
       "      <td>56</td>\n",
       "      <td>2016-11-20</td>\n",
       "      <td>4</td>\n",
       "      <td>(10:16) (Shotgun) T.Brady pass deep right to M...</td>\n",
       "      <td>M.Mitchell</td>\n",
       "      <td>NaN</td>\n",
       "      <td>M.Mitchell</td>\n",
       "      <td>T.Brady</td>\n",
       "    </tr>\n",
       "    <tr>\n",
       "      <th>349080</th>\n",
       "      <td>Pass</td>\n",
       "      <td>2.0</td>\n",
       "      <td>14</td>\n",
       "      <td>2016-12-04</td>\n",
       "      <td>2</td>\n",
       "      <td>(13:13) (Shotgun) T.Brady pass short left to C...</td>\n",
       "      <td>C.Hogan</td>\n",
       "      <td>NaN</td>\n",
       "      <td>C.Hogan</td>\n",
       "      <td>T.Brady</td>\n",
       "    </tr>\n",
       "    <tr>\n",
       "      <th>349049</th>\n",
       "      <td>Run</td>\n",
       "      <td>4.0</td>\n",
       "      <td>43</td>\n",
       "      <td>2016-12-04</td>\n",
       "      <td>1</td>\n",
       "      <td>(10:46) C.Fleming reported in as eligible.  L....</td>\n",
       "      <td>L.Blount</td>\n",
       "      <td>L.Blount</td>\n",
       "      <td>NaN</td>\n",
       "      <td>NaN</td>\n",
       "    </tr>\n",
       "    <tr>\n",
       "      <th>353866</th>\n",
       "      <td>Pass</td>\n",
       "      <td>3.0</td>\n",
       "      <td>19</td>\n",
       "      <td>2016-12-12</td>\n",
       "      <td>3</td>\n",
       "      <td>(8:50) (Shotgun) T.Brady pass deep right to M....</td>\n",
       "      <td>M.Bennett</td>\n",
       "      <td>NaN</td>\n",
       "      <td>M.Bennett</td>\n",
       "      <td>T.Brady</td>\n",
       "    </tr>\n",
       "    <tr>\n",
       "      <th>353917</th>\n",
       "      <td>Pass</td>\n",
       "      <td>1.0</td>\n",
       "      <td>79</td>\n",
       "      <td>2016-12-12</td>\n",
       "      <td>4</td>\n",
       "      <td>(6:28) (Shotgun) T.Brady pass deep middle to C...</td>\n",
       "      <td>C.Hogan</td>\n",
       "      <td>NaN</td>\n",
       "      <td>C.Hogan</td>\n",
       "      <td>T.Brady</td>\n",
       "    </tr>\n",
       "    <tr>\n",
       "      <th>357189</th>\n",
       "      <td>Pass</td>\n",
       "      <td>2.0</td>\n",
       "      <td>18</td>\n",
       "      <td>2016-12-24</td>\n",
       "      <td>2</td>\n",
       "      <td>(2:47) (Shotgun) T.Brady pass deep middle to M...</td>\n",
       "      <td>M.Lengel</td>\n",
       "      <td>NaN</td>\n",
       "      <td>M.Lengel</td>\n",
       "      <td>T.Brady</td>\n",
       "    </tr>\n",
       "    <tr>\n",
       "      <th>357206</th>\n",
       "      <td>Pass</td>\n",
       "      <td>1.0</td>\n",
       "      <td>25</td>\n",
       "      <td>2016-12-24</td>\n",
       "      <td>2</td>\n",
       "      <td>(:31) (Shotgun) T.Brady pass deep right to J.W...</td>\n",
       "      <td>J.White</td>\n",
       "      <td>NaN</td>\n",
       "      <td>J.White</td>\n",
       "      <td>T.Brady</td>\n",
       "    </tr>\n",
       "    <tr>\n",
       "      <th>361154</th>\n",
       "      <td>Pass</td>\n",
       "      <td>3.0</td>\n",
       "      <td>77</td>\n",
       "      <td>2017-01-01</td>\n",
       "      <td>3</td>\n",
       "      <td>(7:05) (Shotgun) T.Brady pass short left to J....</td>\n",
       "      <td>J.Edelman</td>\n",
       "      <td>NaN</td>\n",
       "      <td>J.Edelman</td>\n",
       "      <td>T.Brady</td>\n",
       "    </tr>\n",
       "    <tr>\n",
       "      <th>361073</th>\n",
       "      <td>Pass</td>\n",
       "      <td>1.0</td>\n",
       "      <td>14</td>\n",
       "      <td>2017-01-01</td>\n",
       "      <td>1</td>\n",
       "      <td>(3:56) (Shotgun) T.Brady pass short left to M....</td>\n",
       "      <td>M.Floyd</td>\n",
       "      <td>NaN</td>\n",
       "      <td>M.Floyd</td>\n",
       "      <td>T.Brady</td>\n",
       "    </tr>\n",
       "  </tbody>\n",
       "</table>\n",
       "</div>"
      ],
      "text/plain": [
       "       PlayType  down  Yards.Gained        Date  qtr  \\\n",
       "319038     Pass   2.0            37  2016-09-11    1   \n",
       "320514     Pass   3.0            20  2016-09-18    1   \n",
       "320534     Pass   3.0            10  2016-09-18    2   \n",
       "320500     Pass   2.0            12  2016-09-18    1   \n",
       "320605      Run   1.0             9  2016-09-18    3   \n",
       "322621      Run   2.0            41  2016-09-22    4   \n",
       "322517      Run   1.0            27  2016-09-22    1   \n",
       "328364     Pass   1.0            37  2016-10-09    3   \n",
       "332235     Pass   1.0            15  2016-10-16    2   \n",
       "335390     Pass   3.0            19  2016-10-23    1   \n",
       "335477     Pass   3.0            36  2016-10-23    3   \n",
       "337344     Pass   2.0            53  2016-10-30    2   \n",
       "337371     Pass   1.0            12  2016-10-30    3   \n",
       "337293     Pass   3.0             9  2016-10-30    1   \n",
       "337305     Pass   3.0            53  2016-10-30    1   \n",
       "342982      Run   1.0            13  2016-11-13    3   \n",
       "345121     Pass   3.0            56  2016-11-20    4   \n",
       "349080     Pass   2.0            14  2016-12-04    2   \n",
       "349049      Run   4.0            43  2016-12-04    1   \n",
       "353866     Pass   3.0            19  2016-12-12    3   \n",
       "353917     Pass   1.0            79  2016-12-12    4   \n",
       "357189     Pass   2.0            18  2016-12-24    2   \n",
       "357206     Pass   1.0            25  2016-12-24    2   \n",
       "361154     Pass   3.0            77  2017-01-01    3   \n",
       "361073     Pass   1.0            14  2017-01-01    1   \n",
       "\n",
       "                                                     desc        scorer  \\\n",
       "319038  (7:42) J.Garoppolo pass deep left to C.Hogan f...       C.Hogan   \n",
       "320514  (6:27) (Shotgun) J.Garoppolo pass deep middle ...     M.Bennett   \n",
       "320534  (13:14) (Shotgun) J.Garoppolo pass short middl...    D.Amendola   \n",
       "320500  (11:02) (Shotgun) J.Garoppolo pass short middl...    D.Amendola   \n",
       "320605  (8:46) (Shotgun) L.Blount right tackle for 9 y...      L.Blount   \n",
       "322621  (11:08) L.Blount left end for 41 yards, TOUCHD...      L.Blount   \n",
       "322517  (2:01) J.Brissett right end for 27 yards, TOUC...    J.Brissett   \n",
       "328364  (12:28) (No Huddle) T.Brady pass deep right to...     M.Bennett   \n",
       "332235  (1:06) (Shotgun) T.Brady pass short right to J...       J.White   \n",
       "335390  (3:03) (Shotgun) T.Brady pass short left to J....       J.White   \n",
       "335477  (6:27) (Shotgun) T.Brady pass deep middle to R...  R.Gronkowski   \n",
       "337344  (4:27) (Shotgun) T.Brady pass deep middle to R...  R.Gronkowski   \n",
       "337371  (14:07) (Shotgun) T.Brady pass short right to ...     J.Edelman   \n",
       "337293  (4:35) (Shotgun) T.Brady pass short right to D...    D.Amendola   \n",
       "337305  (1:41) (Shotgun) T.Brady pass deep left to C.H...       C.Hogan   \n",
       "342982  (7:58) L.Blount left end for 13 yards, TOUCHDO...      L.Blount   \n",
       "345121  (10:16) (Shotgun) T.Brady pass deep right to M...    M.Mitchell   \n",
       "349080  (13:13) (Shotgun) T.Brady pass short left to C...       C.Hogan   \n",
       "349049  (10:46) C.Fleming reported in as eligible.  L....      L.Blount   \n",
       "353866  (8:50) (Shotgun) T.Brady pass deep right to M....     M.Bennett   \n",
       "353917  (6:28) (Shotgun) T.Brady pass deep middle to C...       C.Hogan   \n",
       "357189  (2:47) (Shotgun) T.Brady pass deep middle to M...      M.Lengel   \n",
       "357206  (:31) (Shotgun) T.Brady pass deep right to J.W...       J.White   \n",
       "361154  (7:05) (Shotgun) T.Brady pass short left to J....     J.Edelman   \n",
       "361073  (3:56) (Shotgun) T.Brady pass short left to M....       M.Floyd   \n",
       "\n",
       "            Rusher      Receiver       Passer  \n",
       "319038         NaN       C.Hogan  J.Garoppolo  \n",
       "320514         NaN     M.Bennett  J.Garoppolo  \n",
       "320534         NaN    D.Amendola  J.Garoppolo  \n",
       "320500         NaN    D.Amendola  J.Garoppolo  \n",
       "320605    L.Blount           NaN          NaN  \n",
       "322621    L.Blount           NaN          NaN  \n",
       "322517  J.Brissett           NaN          NaN  \n",
       "328364         NaN     M.Bennett      T.Brady  \n",
       "332235         NaN       J.White      T.Brady  \n",
       "335390         NaN       J.White      T.Brady  \n",
       "335477         NaN  R.Gronkowski      T.Brady  \n",
       "337344         NaN  R.Gronkowski      T.Brady  \n",
       "337371         NaN     J.Edelman      T.Brady  \n",
       "337293         NaN    D.Amendola      T.Brady  \n",
       "337305         NaN       C.Hogan      T.Brady  \n",
       "342982    L.Blount           NaN          NaN  \n",
       "345121         NaN    M.Mitchell      T.Brady  \n",
       "349080         NaN       C.Hogan      T.Brady  \n",
       "349049    L.Blount           NaN          NaN  \n",
       "353866         NaN     M.Bennett      T.Brady  \n",
       "353917         NaN       C.Hogan      T.Brady  \n",
       "357189         NaN      M.Lengel      T.Brady  \n",
       "357206         NaN       J.White      T.Brady  \n",
       "361154         NaN     J.Edelman      T.Brady  \n",
       "361073         NaN       M.Floyd      T.Brady  "
      ]
     },
     "execution_count": 37,
     "metadata": {},
     "output_type": "execute_result"
    }
   ],
   "source": [
    "# Get plays where we are on offense\n",
    "offense = pats[pats.DefensiveTeam != PATS_KEY]\n",
    "\n",
    "# Get top 25 by yardage\n",
    "long = offense.sort_values(by='Yards.Gained',ascending=False)[:25]\n",
    "\n",
    "# Figure out the scorer\n",
    "long['scorer'] = long.Rusher\n",
    "long['scorer'].fillna(long.Receiver, inplace=True)\n",
    "\n",
    "# Examine\n",
    "long[['PlayType', 'down', 'Yards.Gained', 'Date', 'qtr', 'desc', 'scorer', 'Rusher', 'Receiver', 'Passer']].sort_values(by='Date')"
   ]
  },
  {
   "cell_type": "markdown",
   "metadata": {},
   "source": [
    "### Plotting"
   ]
  },
  {
   "cell_type": "code",
   "execution_count": 27,
   "metadata": {},
   "outputs": [
    {
     "data": {
      "text/plain": [
       "<matplotlib.axes._subplots.AxesSubplot at 0x11cff0e80>"
      ]
     },
     "execution_count": 27,
     "metadata": {},
     "output_type": "execute_result"
    },
    {
     "data": {
      "image/png": "[encoded data removed]",
      "text/plain": [
       "<matplotlib.figure.Figure at 0x11cff06d8>"
      ]
     },
     "metadata": {},
     "output_type": "display_data"
    }
   ],
   "source": [
    "import seaborn as sns\n",
    "%matplotlib inline\n",
    "sns.countplot(x='scorer', data=long)"
   ]
  },
  {
   "cell_type": "code",
   "execution_count": 28,
   "metadata": {},
   "outputs": [
    {
     "data": {
      "text/plain": [
       "<matplotlib.axes._subplots.AxesSubplot at 0x11d0ebd30>"
      ]
     },
     "execution_count": 28,
     "metadata": {},
     "output_type": "execute_result"
    },
    {
     "data": {
      "image/png": "[encoded data removed]",
      "text/plain": [
       "<matplotlib.figure.Figure at 0x11d0f4c88>"
      ]
     },
     "metadata": {},
     "output_type": "display_data"
    }
   ],
   "source": [
    "# Play type breakdown\n",
    "sns.countplot(x=long.PlayType.name, data=long)"
   ]
  },
  {
   "cell_type": "markdown",
   "metadata": {},
   "source": [
    "### Pass/Run Breakdown"
   ]
  },
  {
   "cell_type": "code",
   "execution_count": 29,
   "metadata": {},
   "outputs": [
    {
     "data": {
      "text/plain": [
       "<matplotlib.axes._subplots.AxesSubplot at 0x11dad3e80>"
      ]
     },
     "execution_count": 29,
     "metadata": {},
     "output_type": "execute_result"
    },
    {
     "data": {
      "image/png": "[encoded data removed]",
      "text/plain": [
       "<matplotlib.figure.Figure at 0x11d0c69e8>"
      ]
     },
     "metadata": {},
     "output_type": "display_data"
    }
   ],
   "source": [
    "throw = long[long.PlayType == 'Pass']\n",
    "sns.countplot(x=throw.Receiver.name, data=throw)"
   ]
  },
  {
   "cell_type": "code",
   "execution_count": 30,
   "metadata": {},
   "outputs": [
    {
     "data": {
      "text/plain": [
       "<matplotlib.axes._subplots.AxesSubplot at 0x11d7f15f8>"
      ]
     },
     "execution_count": 30,
     "metadata": {},
     "output_type": "execute_result"
    },
    {
     "data": {
      "image/png": "[encoded data removed]",
      "text/plain": [
       "<matplotlib.figure.Figure at 0x11d818438>"
      ]
     },
     "metadata": {},
     "output_type": "display_data"
    }
   ],
   "source": [
    "run = long[long.PlayType == 'Run']\n",
    "sns.countplot(x=run.Rusher.name, data=run)"
   ]
  },
  {
   "cell_type": "markdown",
   "metadata": {},
   "source": [
    "### Rushing Yards "
   ]
  },
  {
   "cell_type": "code",
   "execution_count": 33,
   "metadata": {},
   "outputs": [
    {
     "data": {
      "text/plain": [
       "7.2631578947368425"
      ]
     },
     "execution_count": 33,
     "metadata": {},
     "output_type": "execute_result"
    }
   ],
   "source": [
    "blount = offense[(offense.Rusher == 'L.Blount') | (offense.Receiver == 'L.Blount')]\n",
    "\n",
    "# Get average yards\n",
    "import numpy as np\n",
    "np.mean(blount['Yards.Gained'])"
   ]
  },
  {
   "cell_type": "code",
   "execution_count": 34,
   "metadata": {},
   "outputs": [
    {
     "data": {
      "text/plain": [
       "16.03846153846154"
      ]
     },
     "execution_count": 34,
     "metadata": {},
     "output_type": "execute_result"
    }
   ],
   "source": [
    "# Compare to rest of team\n",
    "np.mean(offense['Yards.Gained'])"
   ]
  }
 ],
 "metadata": {
  "kernelspec": {
   "display_name": "Notebook Env",
   "language": "python",
   "name": "env"
  },
  "language_info": {
   "codemirror_mode": {
    "name": "ipython",
    "version": 3
   },
   "file_extension": ".py",
   "mimetype": "text/x-python",
   "name": "python",
   "nbconvert_exporter": "python",
   "pygments_lexer": "ipython3",
   "version": "3.6.4"
  }
 },
 "nbformat": 4,
 "nbformat_minor": 2
}
